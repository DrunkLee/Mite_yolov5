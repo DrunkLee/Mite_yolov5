{
 "cells": [
  {
   "cell_type": "code",
   "execution_count": 11,
   "metadata": {},
   "outputs": [],
   "source": [
    "import os\n",
    "import json\n",
    "from tqdm import tqdm"
   ]
  },
  {
   "cell_type": "code",
   "execution_count": null,
   "metadata": {},
   "outputs": [],
   "source": [
    "def coco_to_yolo(coco_json_path, output_dir):\n",
    "    with open(coco_json_path, 'r') as f:\n",
    "        coco_data = json.load(f)\n",
    "\n",
    "    os.makedirs(output_dir, exist_ok=True)\n",
    "\n",
    "    image_id_to_info = {img['id']: img for img in coco_data['images']}\n",
    "\n",
    "    for ann in tqdm(coco_data['annotations'], desc=\"Converting COCO to YOLO\"):\n",
    "        image_id = ann['image_id']\n",
    "        image_info = image_id_to_info.get(image_id)\n",
    "\n",
    "        if not image_info:\n",
    "            print(f\"Warning: No image found for image_id {image_id}\")\n",
    "            continue\n",
    "\n",
    "        filename = image_info['file_name']\n",
    "        img_width = image_info['width']\n",
    "        img_height = image_info['height']\n",
    "\n",
    "        yolo_label_path = os.path.join(output_dir, os.path.splitext(filename)[0] + \".txt\")\n",
    "\n",
    "        x_min, y_min, x_max, y_max = ann[\"bbox\"]\n",
    "\n",
    "        x_min = max(0, min(x_min, img_width))\n",
    "        y_min = max(0, min(y_min, img_height))\n",
    "        x_max = max(0, min(x_max, img_width))\n",
    "        y_max = max(0, min(y_max, img_height))\n",
    "\n",
    "        width = x_max - x_min\n",
    "        height = y_max - y_min\n",
    "\n",
    "        if width <= 0 or height <= 0:\n",
    "            print(f\"Skipping annotation with invalid dimensions: {ann}\")\n",
    "            continue\n",
    "\n",
    "        x_center = x_min + width / 2\n",
    "        y_center = y_min + height / 2\n",
    "\n",
    "        x_center /= img_width\n",
    "        y_center /= img_height\n",
    "        width /= img_width\n",
    "        height /= img_height\n",
    "\n",
    "        if not (0 <= x_center <= 1 and 0 <= y_center <= 1 and 0 <= width <= 1 and 0 <= height <= 1):\n",
    "            print(f\"Skipping annotation with out-of-bounds coordinates: {ann}\")\n",
    "            continue\n",
    "\n",
    "        category_id = ann[\"category_id\"]\n",
    "\n",
    "        with open(yolo_label_path, \"a\") as f:\n",
    "            f.write(f\"{category_id} {x_center:.6f} {y_center:.6f} {width:.6f} {height:.6f}\\n\")\n",
    "\n",
    "    print(f\"YOLO annotations saved in {output_dir}\")"
   ]
  },
  {
   "cell_type": "code",
   "execution_count": 13,
   "metadata": {},
   "outputs": [
    {
     "name": "stderr",
     "output_type": "stream",
     "text": [
      "Converting COCO to YOLO: 100%|██████████| 20606/20606 [00:00<00:00, 28927.38it/s]"
     ]
    },
    {
     "name": "stdout",
     "output_type": "stream",
     "text": [
      "YOLO annotations saved in /data/ephemeral/home/aihub/out/train\n"
     ]
    },
    {
     "name": "stderr",
     "output_type": "stream",
     "text": [
      "\n"
     ]
    }
   ],
   "source": [
    "# train\n",
    "train_json = \"/data/ephemeral/home/aihub/train.json\"\n",
    "train_dir = \"/data/ephemeral/home/aihub/out/train\"\n",
    "\n",
    "coco_to_yolo(train_json, train_dir)"
   ]
  },
  {
   "cell_type": "code",
   "execution_count": 14,
   "metadata": {},
   "outputs": [
    {
     "name": "stderr",
     "output_type": "stream",
     "text": [
      "Converting COCO to YOLO:   0%|          | 0/6614 [00:00<?, ?it/s]"
     ]
    },
    {
     "name": "stderr",
     "output_type": "stream",
     "text": [
      "Converting COCO to YOLO: 100%|██████████| 6614/6614 [00:00<00:00, 30142.78it/s]"
     ]
    },
    {
     "name": "stdout",
     "output_type": "stream",
     "text": [
      "YOLO annotations saved in /data/ephemeral/home/aihub/out/val\n"
     ]
    },
    {
     "name": "stderr",
     "output_type": "stream",
     "text": [
      "\n"
     ]
    }
   ],
   "source": [
    "# val\n",
    "val_json = \"/data/ephemeral/home/aihub/val.json\"\n",
    "val_dir = \"/data/ephemeral/home/aihub/out/val\"\n",
    "\n",
    "coco_to_yolo(val_json, val_dir)"
   ]
  },
  {
   "cell_type": "code",
   "execution_count": 15,
   "metadata": {},
   "outputs": [
    {
     "name": "stderr",
     "output_type": "stream",
     "text": [
      "Converting COCO to YOLO:  44%|████▍     | 2893/6533 [00:00<00:00, 28926.51it/s]"
     ]
    },
    {
     "name": "stderr",
     "output_type": "stream",
     "text": [
      "Converting COCO to YOLO: 100%|██████████| 6533/6533 [00:00<00:00, 29325.84it/s]"
     ]
    },
    {
     "name": "stdout",
     "output_type": "stream",
     "text": [
      "YOLO annotations saved in /data/ephemeral/home/aihub/out/test\n"
     ]
    },
    {
     "name": "stderr",
     "output_type": "stream",
     "text": [
      "\n"
     ]
    }
   ],
   "source": [
    "# test\n",
    "test_json = \"/data/ephemeral/home/aihub/test.json\"\n",
    "test_dir = \"/data/ephemeral/home/aihub/out/test\"\n",
    "\n",
    "coco_to_yolo(test_json, test_dir)"
   ]
  }
 ],
 "metadata": {
  "kernelspec": {
   "display_name": "base",
   "language": "python",
   "name": "python3"
  },
  "language_info": {
   "codemirror_mode": {
    "name": "ipython",
    "version": 3
   },
   "file_extension": ".py",
   "mimetype": "text/x-python",
   "name": "python",
   "nbconvert_exporter": "python",
   "pygments_lexer": "ipython3",
   "version": "3.10.13"
  }
 },
 "nbformat": 4,
 "nbformat_minor": 2
}
