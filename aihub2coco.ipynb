{
 "cells": [
  {
   "cell_type": "code",
   "execution_count": null,
   "metadata": {},
   "outputs": [],
   "source": [
    "import os\n",
    "import json\n",
    "from tqdm import tqdm"
   ]
  },
  {
   "cell_type": "code",
   "execution_count": 2,
   "metadata": {},
   "outputs": [],
   "source": [
    "def aihub2coco(labels_dir, out_file, categories):\n",
    "    coco_format = {\n",
    "    \"images\": [],\n",
    "    \"annotations\": [],\n",
    "    \"categories\": []\n",
    "    }\n",
    "    coco_format[\"categories\"] = categories\n",
    "    \n",
    "    image_id = 0\n",
    "    annotation_id = 0\n",
    "    \n",
    "    for label_file in tqdm(os.listdir(labels_dir)):\n",
    "        if label_file.endswith(\".json\"):\n",
    "            label_path = os.path.join(labels_dir, label_file)\n",
    "            with open(label_path, 'r') as f:\n",
    "                label_data = json.load(f)\n",
    "                \n",
    "            image_data = label_data.get(\"image\", {})\n",
    "            image_file = image_data.get(\"filename\", None)\n",
    "            if not image_file:\n",
    "                continue\n",
    "            \n",
    "            image_info = {\n",
    "                \"id\": image_id,\n",
    "                \"file_name\": image_file,\n",
    "                \"width\": image_data.get(\"width\", 0),\n",
    "                \"height\": image_data.get(\"height\", 0)\n",
    "            }\n",
    "            coco_format['images'].append(image_info)\n",
    "            \n",
    "            for annotation in label_data.get(\"annotations\", []):\n",
    "                annotation_info = {\n",
    "                    \"id\": annotation_id,\n",
    "                    \"image_id\": image_id,\n",
    "                    \"category_id\": annotation[\"category_id\"],\n",
    "                    \"bbox\": annotation['bbox'],\n",
    "                    \"area\": annotation['area'],\n",
    "                    \"iscrowd\": 0\n",
    "                }\n",
    "                coco_format[\"annotations\"].append(annotation_info)\n",
    "                annotation_id += 1\n",
    "                \n",
    "            image_id += 1\n",
    "    \n",
    "    with open(out_file, 'w') as f:\n",
    "        json.dump(coco_format, f, indent=4)\n",
    "        \n",
    "    print(\"AIHub 2 COCO DONE!\")    "
   ]
  },
  {
   "cell_type": "code",
   "execution_count": 3,
   "metadata": {},
   "outputs": [],
   "source": [
    "categories = [\n",
    "    {\"id\": 0, \"name\": \"유충_정상\", \"supercategory\": \"유충\"},\n",
    "    {\"id\": 1, \"name\": \"유충_응애\", \"supercategory\": \"유충\"},\n",
    "    {\"id\": 2, \"name\": \"유충_석고병\", \"supercategory\": \"유충\"},\n",
    "    {\"id\": 3, \"name\": \"유충_부저병\", \"supercategory\": \"유충\"},\n",
    "    {\"id\": 4, \"name\": \"성충_정상\", \"supercategory\": \"성충\"},\n",
    "    {\"id\": 5, \"name\": \"성충_응애\", \"supercategory\": \"성충\"},\n",
    "    {\"id\": 6, \"name\": \"성충_날개불구바이러스감염증\", \"supercategory\": \"성충\"}\n",
    "]\n",
    "\n",
    "labels_dir = \"/data/ephemeral/home/aihub/labels\"\n",
    "out_file = \"mite_coco.json\""
   ]
  },
  {
   "cell_type": "code",
   "execution_count": 4,
   "metadata": {},
   "outputs": [
    {
     "name": "stderr",
     "output_type": "stream",
     "text": [
      "100%|██████████| 3685/3685 [02:27<00:00, 25.07it/s]\n"
     ]
    },
    {
     "name": "stdout",
     "output_type": "stream",
     "text": [
      "AIHub 2 COCO DONE!\n"
     ]
    }
   ],
   "source": [
    "aihub2coco(labels_dir, out_file, categories)"
   ]
  }
 ],
 "metadata": {
  "kernelspec": {
   "display_name": "base",
   "language": "python",
   "name": "python3"
  },
  "language_info": {
   "codemirror_mode": {
    "name": "ipython",
    "version": 3
   },
   "file_extension": ".py",
   "mimetype": "text/x-python",
   "name": "python",
   "nbconvert_exporter": "python",
   "pygments_lexer": "ipython3",
   "version": "3.10.13"
  }
 },
 "nbformat": 4,
 "nbformat_minor": 2
}
