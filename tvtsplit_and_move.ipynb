{
 "cells": [
  {
   "cell_type": "code",
   "execution_count": 19,
   "metadata": {},
   "outputs": [],
   "source": [
    "import os\n",
    "import json\n",
    "import numpy as np\n",
    "from tqdm import tqdm\n",
    "import shutil"
   ]
  },
  {
   "cell_type": "code",
   "execution_count": null,
   "metadata": {},
   "outputs": [],
   "source": [
    "def split_coco_dataset(json_path, out_dir, train_ratio=0.6, val_ratio=0.2, seed=42):\n",
    "    os.makedirs(out_dir, exist_ok=True)\n",
    "    \n",
    "    with open(json_path, 'r') as f:\n",
    "        coco_data = json.load(f)\n",
    "    \n",
    "    images = coco_data['images']\n",
    "    annotations = coco_data['annotations']\n",
    "    np.random.seed(seed)\n",
    "    np.random.shuffle(images)\n",
    "    \n",
    "    total_images = len(images)\n",
    "    train_count = int(total_images * train_ratio)\n",
    "    val_count = int(total_images * val_ratio)\n",
    "    test_count = total_images - train_count - val_count\n",
    "    \n",
    "    train_images = images[:train_count]\n",
    "    val_images = images[train_count:train_count + val_count]\n",
    "    test_images = images[train_count + val_count:]\n",
    "    \n",
    "    train_images_ids = {img['id'] for img in train_images}\n",
    "    val_images_ids = {img['id'] for img in val_images}\n",
    "    test_images_ids = {img['id'] for img in test_images}\n",
    "    \n",
    "    train_annotations = [ann for ann in annotations if ann['image_id'] in train_images_ids]\n",
    "    val_annotations = [ann for ann in annotations if ann['image_id'] in val_images_ids]\n",
    "    test_annotations = [ann for ann in annotations if ann['image_id'] in test_images_ids]\n",
    "    \n",
    "    train_coco = {\n",
    "        \"images\": train_images,\n",
    "        \"annotations\": train_annotations,\n",
    "        \"categories\": coco_data[\"categories\"]\n",
    "    }\n",
    "    \n",
    "    val_coco = {\n",
    "        \"images\": val_images,\n",
    "        \"annotations\": val_annotations,\n",
    "        \"categories\": coco_data[\"categories\"]\n",
    "    }\n",
    "    \n",
    "    test_coco = {\n",
    "        \"images\": test_images,\n",
    "        \"annotations\": test_annotations,\n",
    "        \"categories\": coco_data[\"categories\"]\n",
    "    }\n",
    "    \n",
    "    with open(os.path.join(out_dir, \"train.json\"), 'w') as f:\n",
    "        json.dump(train_coco, f, indent=4)\n",
    "    with open(os.path.join(out_dir, \"val.json\"), 'w') as f:\n",
    "        json.dump(val_coco, f, indent=4)\n",
    "    with open(os.path.join(out_dir, \"test.json\"), 'w') as f:\n",
    "        json.dump(test_coco, f, indent=4)    \n",
    "    \n",
    "    print(\"TVT SPLIT DONE!\")"
   ]
  },
  {
   "cell_type": "code",
   "execution_count": null,
   "metadata": {},
   "outputs": [],
   "source": [
    "json_path = \"/data/ephemeral/home/aihub/all_mite_coco.json\"\n",
    "out_dir = \"/data/ephemeral/home/aihub\""
   ]
  },
  {
   "cell_type": "code",
   "execution_count": null,
   "metadata": {},
   "outputs": [],
   "source": [
    "split_coco_dataset(json_path, out_dir)"
   ]
  },
  {
   "cell_type": "code",
   "execution_count": 15,
   "metadata": {},
   "outputs": [],
   "source": [
    "def move_images(json_path, img_dir, out_dir):\n",
    "    with open(json_path, 'r') as f:\n",
    "        coco_data = json.load(f)\n",
    "    \n",
    "    split_name = os.path.splitext(os.path.basename(json_path))[0]\n",
    "    target_dir = os.path.join(out_dir, split_name)\n",
    "    os.makedirs(target_dir, exist_ok=True)\n",
    "    \n",
    "    for image_info in tqdm(coco_data['images'], desc=f\"move image to {split_name}\"):\n",
    "        src_path = os.path.join(img_dir, image_info['file_name'])\n",
    "        dest_path = os.path.join(target_dir, image_info['file_name'])\n",
    "        if os.path.exists(src_path):\n",
    "            shutil.copy(src_path, dest_path)\n",
    "        else:\n",
    "            print(f\"Warning: Image {src_path} does not exist!\")\n",
    "    print(\"Image moved to DONE\")"
   ]
  },
  {
   "cell_type": "code",
   "execution_count": 16,
   "metadata": {},
   "outputs": [],
   "source": [
    "img_dir = \"/data/ephemeral/home/aihub/images\"\n",
    "out_dir = \"/data/ephemeral/home/aihub/out\""
   ]
  },
  {
   "cell_type": "code",
   "execution_count": 17,
   "metadata": {},
   "outputs": [],
   "source": [
    "train_json = \"/data/ephemeral/home/aihub/train.json\"\n",
    "val_json = \"/data/ephemeral/home/aihub/val.json\"\n",
    "test_json = \"/data/ephemeral/home/aihub/test.json\""
   ]
  },
  {
   "cell_type": "code",
   "execution_count": 20,
   "metadata": {},
   "outputs": [
    {
     "name": "stderr",
     "output_type": "stream",
     "text": [
      "move image to train: 100%|██████████| 2211/2211 [00:03<00:00, 732.95it/s]"
     ]
    },
    {
     "name": "stdout",
     "output_type": "stream",
     "text": [
      "Image moved to DONE\n"
     ]
    },
    {
     "name": "stderr",
     "output_type": "stream",
     "text": [
      "\n"
     ]
    }
   ],
   "source": [
    "move_images(train_json, img_dir, out_dir)"
   ]
  },
  {
   "cell_type": "code",
   "execution_count": 21,
   "metadata": {},
   "outputs": [
    {
     "name": "stderr",
     "output_type": "stream",
     "text": [
      "move image to val: 100%|██████████| 737/737 [00:00<00:00, 766.67it/s]"
     ]
    },
    {
     "name": "stdout",
     "output_type": "stream",
     "text": [
      "Image moved to DONE\n"
     ]
    },
    {
     "name": "stderr",
     "output_type": "stream",
     "text": [
      "\n"
     ]
    }
   ],
   "source": [
    "move_images(val_json, img_dir, out_dir)"
   ]
  },
  {
   "cell_type": "code",
   "execution_count": 22,
   "metadata": {},
   "outputs": [
    {
     "name": "stderr",
     "output_type": "stream",
     "text": [
      "move image to test: 100%|██████████| 737/737 [00:01<00:00, 732.63it/s]\n"
     ]
    },
    {
     "name": "stdout",
     "output_type": "stream",
     "text": [
      "Image moved to DONE\n"
     ]
    }
   ],
   "source": [
    "move_images(test_json, img_dir, out_dir)"
   ]
  }
 ],
 "metadata": {
  "kernelspec": {
   "display_name": "base",
   "language": "python",
   "name": "python3"
  },
  "language_info": {
   "codemirror_mode": {
    "name": "ipython",
    "version": 3
   },
   "file_extension": ".py",
   "mimetype": "text/x-python",
   "name": "python",
   "nbconvert_exporter": "python",
   "pygments_lexer": "ipython3",
   "version": "3.10.13"
  }
 },
 "nbformat": 4,
 "nbformat_minor": 2
}
